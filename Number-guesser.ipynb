list=[1, 2, 3, 4, 5, 6, 7, 8, 9, 10, 11, 12, 13, 14, 15, 16, 17, 18, 19, 20, 21, 22, 23, 24, 25,26, 27, 28, 29, 30, 31, 32, 33, 34, 35, 36, 37, 38, 39, 40, 41, 42, 43, 44, 45, 46, 47, 48, 49, 50, 51, 52, 53, 54, 55, 56, 57, 58, 59, 60, 61, 62, 63, 64, 65, 66, 67, 68, 69, 70, 71, 72, 73, 74, 75, 76, 77, 78, 79, 80, 81, 82, 83, 84, 85, 86, 87, 88, 89, 90, 91, 92, 93, 94, 95, 96, 97, 98, 99,100]
L='Y'
while L.upper()=='Y':
    print('----------------------------------------------------------')
    print ('\t\t\t NUMBER GUESSER')
    print('\n\nTHINK OF ANY NUMBER BETWEEN 1-100')
    print("We will try to guess the number by asking a few questions..")
    q=input("\n\nQ1.Is the number divisible by 2? (Y/N) : " )
    if q.upper()=='Y':
        list=list[1::2] #even numbers
    elif q.upper()=='N':
        list=list[::2] #odd numbers
    w=input("Q2.Is it a PRIME number?(Y/N) : ")
    if w.upper()=='Y'and q.upper()=='Y':
        print("Your number is 2")
    elif w.upper()=='Y'and q.upper()=='N':
        list=[3, 5, 7, 11, 13, 17, 19, 23, 29, 31, 37, 41, 43, 47, 53, 59, 61, 67, 71, 73, 79, 83, 89, 97]
        e=input('Q3.Does your number start with 1? (Y/N) : ')
        if e.upper()=='Y':
            list: List[int]=[11,31,41,61,71]
            r=input("Q4.Is the number GREATER THAN 50? (Y/N) : ")
            if r.upper()=='Y':
                list=[61,71]
                t=input("Q5.Is your number GREATER THAN 70? (Y/N) : ")
                if t.upper()=='Y':
                    print("Your Number is 71")
                else:
                    print("Your Number is 61")
            elif r.upper()=='N':
                list=[11,31,41]
                t=input("Q5.Is your number GREATER THAN 20? (Y/N) : ")
                if t.upper()=='Y':
                    list=[31,41]
                    y=input('Q6.Is your number GREATER THAN 40? (Y/N) : ')
                    if y.upper()=='Y':
                        print("Your number is 41")
                    elif y.upper()=='N':
                        print("Your number is 31")
                    else:
                        print("Wrong input detected")
                        continue
                elif t.upper()=='N':
                    print("Your Number is 11")
                else:
                    print("Wrong input detected")
                    continue
            else:
                print("Wrong input detected")
                continue
        elif e.upper()=='N':
            list=[3, 5, 7, 13, 17, 19, 23, 29,  37,  43, 47, 53, 59,  67, 73, 79, 83, 89, 97]
            r=input("Q4.Is the number GREATER THAN 50? (Y/N) : ")
            if r.upper()=='Y':
                list=[53, 59,  67, 73, 79, 83, 89, 97]
                t=input("Q5.Does your number start with 7? (Y/N) : ")
                if t.upper()=='Y':
                    list=[67,97]
                    y=input("Q6.Is your number 97? (Y/N) : ")
                    if y.upper()=='Y':
                        print('Your number is 97')
                    elif y.upper()=='N':
                        print("Your number is 67")
                    else:
                        print("Wrong input detected")
                        continue
                elif t.upper()=='N':
                    list=[53, 59, 73, 79, 83, 89]
                    y=input("Q6.Does your number start with 3?(Y/N)")
                    if y.upper()=='Y':
                        list=[53,73,83]
                        u=input('Q7.Is the sum of digits of your numbers greater than 8? (Y/N) : ')
                        if u.upper()=='Y':
                            list=[73,83]
                            i=input("Q8.Is your number 73? (Y/N) : " )
                            if i.upper()=='Y':
                                print('Your number is 73')
                            elif i.upper()=='N':
                                print('Your number is 83')
                            else:
                                print("Wrong input detected")
                                continue
                        elif u.upper()=='N':
                            print("Your number is 53")
                        else:
                            print("Wrong input detected")
                            continue
                    if y.upper()=='N':
                        list=[59,79,89]
                        u=input('Q7.Is the sum of digits of your numbers greater than 15? (Y/N) : ')
                        if u.upper()=='Y':
                            list=[79,89]
                            i=input("Q8.Is your number 79? (Y/N) : " )
                            if i.upper()=='Y':
                                print('Your number is 79')
                            elif i.upper()=='N':
                                print('Your number is 89')
                            else:
                                print("Wrong input detected")
                                continue
                        elif u.upper()=='N':
                            print("Your number is 59")
                        else:
                            print("Wrong input detected")
                            continue
            elif r.upper()=='N':
                list=[3, 5, 7, 13, 17, 19, 23, 29,  37,  43, 47]
                t=input("Q5.Does your number start with 7? (Y/N) : ")
                if t.upper()=='Y':
                    list=[7,17,37,47]
                    y=input("Q6.Is your number greater than 20? (Y/N) : ")
                    if y.upper()=='Y':
                        list=[37,47]
                        u=input('Q7.Is your number less than 40? (Y/N) : ')
                        if u.upper()=='Y':
                            print("Your number is 37")
                        elif u.upper()=='N':
                            print("Your number is 47")
                        else:
                            print("Wrong input detected")
                            continue
                    elif y.upper()=='N':
                        list=[7,17]
                        u=input('Q7.Is your number less than 10? (Y/N) : ')
                        if u.upper()=='Y':
                            print("Your number is 7")
                        elif u.upper()=='N':
                            print("Your number is 17")
                        else:
                            print("Wrong input detected")
                            continue
                    else:
                        print("Wrong input detected")
                        continue
                elif t.upper()=='N':
                    list=[3, 5, 13, 19, 23, 29,43]
                    y=input("Q6.Does your number start with 3?(Y/N)")
                    if y.upper()=='Y':
                        list=[3,13,23,43]
                        u=input('Q7.Is the numbers greater than 20? (Y/N) : ')
                        if u.upper()=='Y':
                            list=[23,43]
                            i=input("Q8.Is your number 23? (Y/N) : " )
                            if i.upper()=='Y':
                                print('Your number is 23')
                            elif i.upper()=='N':
                                print('Your number is 43')
                            else:
                                print("Wrong input detected")
                                continue
                        elif u.upper()=='N':
                            list=[3,13]
                            i=input("Q8.Is it a single digit number? (Y/N) : ")
                            if i.upper()=='Y':
                                print("Your number is 3")
                            elif i.upper()=='N':
                                print("Your number is 13")
                            else:
                                print("Wrong input detected")
                                continue
                        else:
                            print("Wrong input detected")
                            continue
                    elif y.upper()=='N':
                        list=[5,19,29]
                        u=input('Q7.Is it a single digit number? (Y/N) : ')
                        if u.upper()=='Y':
                            print("Your number is 5")
                        elif u.upper()=='N':
                            list=[19,29]
                            i=input("Q8.Is your number 19? (Y/N) : ")
                            if i.upper()=='Y':
                                print("Your number is 19")
                            elif i.upper()=="N":
                                print("Your number is 29")
                            else:
                                print("Wrong input detected")
                                continue
                        else:
                            print("Wrong input detected")
                            continue
                    else:
                        print("Wrong input detected")
                        continue
                else:
                    print("Wrong input detected")
                    continue
            else:
                print("Wrong input detected")
                continue
        else:
            print("Wrong input detected")
            continue
    elif w.upper()=='N' and q.upper()=='Y':
        list=[4, 6, 8, 10, 12, 14, 16, 18, 20, 22, 24, 26, 28, 30, 32, 34, 36, 38, 40, 42, 44, 46, 48, 50, 52, 54, 56, 58, 60, 62, 64, 66, 68, 70,72, 74, 76, 78, 80, 82, 84, 86, 88, 90, 92, 94, 96, 98, 100]
        e=input("Q3.Is your number divisible by 4? (Y/N) : ")
        if e.upper()=='Y':
            list=[4,8,12,16,20,24,28,32,36,40,44,48,52,56,60,64,68,72,76,80,84,88,92,96,100]
            r=input("Q4.Is your number lesser than 50? (Y/N) : ")
            if r.upper()=='Y':
                list=[4,8,12,16,20,24,28,32,36,40,44,48]
                t=input("Q5.Does your number start with 4 or 8 ? (Y/N) : ")
                if t.upper()=='Y':
                    list=[4,8,24,28,44,48]
                    y=input("Q6.Is your number greater than 25? (Y/N) : ")
                    if y.upper()=='Y':
                        list=[28,44,48]
                        u=input("Q7.Does your number end with 8? (Y/N) : ")
                        if u.upper()=='Y':
                            list=[28,48]
                            i=input("Q8.Is your number 28? (Y/N) : ")
                            if i.upper()=='Y':
                                print("Your number is 28")
                            elif i.upper()=='N':
                                print('Your number is 48')
                            else:
                                print("Wrong input detected")
                                continue
                        elif u.upper()=='N':
                            print("Your number is 44")
                        else:
                            print("Wrong input detected")
                            continue
                    elif y.upper()=='N':
                        list=[4,8,24]
                        u=input("Q7.Does your number end with 4? (Y/N) : ")
                        if u.upper()=='Y':
                            list=[4,24]
                            i=input("Q8.Is your number 4? (Y/N) : ")
                            if i.upper()=='Y':
                                print("Your number is 4")
                            elif i.upper()=='N':
                                print('Your number is 24')
                            else:
                                print("Wrong input detected")
                                continue
                        elif u.upper()=='N':
                            print("Your number is 24")
                        else:
                            print("Wrong input detected")
                            continue
                   
                elif t.upper()=='N':
                    list=[12,16,20,32,36,40]
                    y=input("Q6.Is your number greater than 25? (Y/N) : ")
                    if y.upper()=='Y':
                        list=[32,36,40]
                        u=input("Q7.Does your number end with 2? (Y/N) : ")
                        if u.upper()=='N':
                            list=[36,40]
                            i=input("Q8.Is your number 36? (Y/N) : ")
                            if i.upper()=='Y':
                                print("Your number is 36")
                            elif i.upper()=='N':
                                print('Your number is 40')
                            else:
                                print("Wrong input detected")
                                continue
                        elif u.upper()=='Y':
                            print("Your number is 32")
                        else:
                            print("Wrong input detected")
                            continue
                    elif y.upper()=='N':
                        list=[12,16,20]
                        u=input("Q7.Does your number end with 2? (Y/N) : ")
                        if u.upper()=='N':
                            list=[16,20]
                            i=input("Q8.Is your number 16? (Y/N) : ")
                            if i.upper()=='Y':
                                print("Your number is 16")
                            elif i.upper()=='N':
                                print('Your number is 20')
                            else:
                                print("Wrong input detected")
                                continue
                        elif u.upper()=='Y':
                            print("Your number is 12")
                        else:
                            print("Wrong input detected")
                            continue
                    else:
                        print("Wrong input detected")
                        continue
            elif r.upper()=='N':
                list=[52,56,60,64,68,72,76,80,84,88,92,96,100]
                t=input("Q5.Does your number start with 0 or 4 or 8 ? (Y/N) : ")
                if t.upper()=='Y':
                    list=[60,64,68,80,84,88,100]
                    y=input("Q6.Is your number greater than 75? (Y/N) : ")
                    if y.upper()=='Y':
                        list=[80,84,88,100]
                        u=input("Q7.Does your number end with 8? (Y/N) : ")
                        if u.upper()=='N':
                            list=[80,84,100]
                            i=input("Q8.Does your number end with 0? (Y/N) : ")
                            if i.upper()=='Y':
                                list=[80,100]
                                o=input("Is your number 100? (Y/N) : ")
                                if o.upper()=='Y':
                                    print("Your number is 100")
                                elif o.upper()=='N':
                                    print("Your number is 80")
                                else:
                                    print("Wrong input detected")
                                    continue
                            elif i.upper()=='N':
                                print('Your number is 84')
                            else:
                                print("Wrong input detected")
                                continue
                        elif u.upper()=='Y':
                            print("Your number is 88")
                        else:
                            print("Wrong input detected")
                            continue
                    elif y.upper()=='N':
                        list=[60,64,68]
                        u=input("Q7.Does your number end with 8? (Y/N) : ")
                        if u.upper()=='N':
                            list=[60,64]
                            i=input("Q8.Is your number 60? (Y/N) : ")
                            if i.upper()=='Y':
                                print("Your number is 60")
                            elif i.upper()=='N':
                                print('Your number is 64')
                            else:
                                print("Wrong input detected")
                                continue
                        elif u.upper()=='Y':
                            print("Your number is 68")
                        else:
                            print("Wrong input detected")
                            continue
                    else:
                        print("Wrong input detected")
                        continue
                elif t.upper()=='N':
                    list=[52,56,72,76,92,96]
                    y=input("Q6.Is your number greater than 75? (Y/N) : ")
                    if y.upper()=='Y':
                        list=[76,92,96]
                        u=input("Q7.Does your number end with 2? (Y/N) : ")
                        if u.upper()=='N':
                            list=[76,96]
                            i=input("Q8.Is your number 76? (Y/N) : ")
                            if i.upper()=='Y':
                                print("Your number is 76")
                            elif i.upper()=='N':
                                print('Your number is 96')
                            else:
                                print("Wrong input detected")
                                continue
                        elif u.upper()=='Y':
                            print("Your number is 92")
                        else:
                            print("Wrong input detected")
                            continue
                    elif y.upper()=='N':
                        list=[52,56,72]
                        u=input("Q7.Does your number end with 6? (Y/N) : ")
                        if u.upper()=='N':
                            list=[52,72]
                            i=input("Q8.Is your number 52? (Y/N) : ")
                            if i.upper()=='Y':
                                print("Your number is 52")
                            elif i.upper()=='N':
                                print('Your number is 72')
                            else:
                                print("Wrong input detected")
                                continue
                        elif u.upper()=='Y':
                            print("Your number is 56")
                        else:
                            print("Wrong input detected")
                            continue
                    else:
                        print("Wrong input detected")
                        continue
                else:
                    print("Wrong input detected")
                    continue
            else:
                print("Wrong input detected")
                continue    
        elif e.upper()=='N':
            list=[6,10,14,18,22,26,30,34,38,42,46,50,54,58,62,66,70,74,78,82,86,90,94,98]
            r=input("Q4.Is your number lesser than or equal to 50? (Y/N) : ")
            if r.upper()=='Y':
                list=[6,10,14,18,22,26,30,34,38,42,46,50]
                t=input("Q5.Does your number start with 6 or 0 ? (Y/N) : ")
                if t.upper()=='Y':
                    list=[6,10,26,30,46,50]
                    y=input("Q6.Is your number greater than 29? (Y/N) : ")
                    if y.upper()=='Y':
                        list=[30,46,50]
                        u=input("Q7.Does your number end with 0? (Y/N) : ")
                        if u.upper()=='Y':
                            list=[30,50]
                            i=input("Q8.Is your number 30? (Y/N) : ")
                            if i.upper()=='Y':
                                print("Your number is 30")
                            elif i.upper()=='N':
                                print('Your number is 50')
                            else:
                                print("Wrong input detected")
                                continue
                        elif u.upper()=='N':
                            print("Your number is 46")
                        else:
                            print("Wrong input detected")
                            continue
                    elif y.upper()=='N':
                        list=[6,10,26]
                        u=input("Q7.Does your number end with 6? (Y/N) : ")
                        if u.upper()=='Y':
                            list=[6,26]
                            i=input("Q8.Is your number 6? (Y/N) : ")
                            if i.upper()=='Y':
                                print("Your number is 6")
                            elif i.upper()=='N':
                                print('Your number is 26')
                            else:
                                print("Wrong input detected")
                                continue
                        elif u.upper()=='N':
                            print("Your number is 10")
                        else:
                            print("Wrong input detected")
                            continue
                    else:
                            print("Wrong input detected")
                            continue
                elif t.upper()=='N':
                    list=[14,18,22,34,38,42]
                    y=input("Q6.Is your number greater than 25? (Y/N) : ")
                    if y.upper()=='Y':
                        list=[34,38,42]
                        u=input("Q7.Does your number end with 2? (Y/N) : ")
                        if u.upper()=='N':
                            list=[34,38]
                            i=input("Q8.Is your number 34? (Y/N) : ")
                            if i.upper()=='Y':
                                print("Your number is 34")
                            elif i.upper()=='N':
                                print('Your number is 38')
                            else:
                                print("Wrong input detected")
                                continue
                        elif u.upper()=='Y':
                            print("Your number is 42")
                        else:
                            print("Wrong input detected")
                            continue
                    elif y.upper()=='N':
                        list=[14,18,22]
                        u=input("Q7.Does your number end with 2? (Y/N) : ")
                        if u.upper()=='N':
                            list=[14,18]
                            i=input("Q8.Is your number 14? (Y/N) : ")
                            if i.upper()=='Y':
                                print("Your number is 14")
                            elif i.upper()=='N':
                                print('Your number is 18')
                            else:
                                print("Wrong input detected")
                                continue
                        elif u.upper()=='Y':
                            print("Your number is 22")
                        else:
                            print("Wrong input detected")
                            continue
                    else:
                        print("Wrong input detected")
                        continue
            elif r.upper()=='N':
                list=[54,58,62,66,70,74,78,82,86,90,94,98]
                t=input("Q5.Does your number start with 0 or 2 or 6 ? (Y/N) : ")
                if t.upper()=='Y':
                    list=[62,66,70,82,86,90]
                    y=input("Q6.Is your number greater than 75? (Y/N) : ")
                    if y.upper()=='Y':
                        list=[82,86,90]
                        u=input("Q7.Does your number end with 0? (Y/N) : ")
                        if u.upper()=='N':
                            list=[82,86]
                            i=input("Q8.Does your number end with 2? (Y/N) : ")
                            if i.upper()=='Y':
                                print("Your number is 82")
                            elif i.upper()=='N':
                                print('Your number is 86')
                            else:
                                print("Wrong input detected")
                                continue
                        elif u.upper()=='Y':
                            print("Your number is 90")
                        else:
                            print("Wrong input detected")
                            continue
                    elif y.upper()=='N':
                        list=[62,66,70]
                        u=input("Q7.Does your number end with 0? (Y/N) : ")
                        if u.upper()=='N':
                            list=[62,66]
                            i=input("Q8.Is your number greater than 65? (Y/N) : ")
                            if i.upper()=='Y':
                                print("Your number is 66")
                            elif i.upper()=='N':
                                print('Your number is 62')
                            else:
                                print("Wrong input detected")
                                continue
                        elif u.upper()=='Y':
                            print("Your number is 70")
                        else:
                            print("Wrong input detected")
                            continue
                    else:
                        print("Wrong input detected")
                        continue
                elif t.upper()=='N':
                    list=[54,58,74,78,94,98]
                    y=input("Q6.Is your number greater than 75? (Y/N) : ")
                    if y.upper()=='Y':
                        list=[78,94,98]
                        u=input("Q7.Does your number end with 4? (Y/N) : ")
                        if u.upper()=='N':
                            list=[78,98]
                            i=input("Q8.Is your number 78? (Y/N) : ")
                            if i.upper()=='Y':
                                print("Your number is 78")
                            elif i.upper()=='N':
                                print('Your number is 98')
                            else:
                                print("Wrong input detected")
                                continue
                        elif u.upper()=='Y':
                            print("Your number is 94")
                        else:
                            print("Wrong input detected")
                            continue
                    elif y.upper()=='N':
                        list=[54,58,74]
                        u=input("Q7.Does your number end with 8? (Y/N) : ")
                        if u.upper()=='N':
                            list=[54,74]
                            i=input("Q8.Is your number 54? (Y/N) : ")
                            if i.upper()=='Y':
                                print("Your number is 54")
                            elif i.upper()=='N':
                                print('Your number is 74')
                            else:
                                print("Wrong input detected")
                                continue
                        elif u.upper()=='Y':
                            print("Your number is 58")
                        else:
                            print("Wrong input detected")
                            continue
                    else:
                        print("Wrong input detected")
                        continue
                else:
                    print("Wrong input detected")
                    continue
            else:
                print("Wrong input detected")
                continue    
        else:
            print("Wrong input detected")
            continue
    elif w.upper()=='N'and q.upper()=='N':
        list=[1,9,15,21,25,27,33,35,39,45,49,51,55,57,63,65,69,75,77,81,85,87,91,93,95,99]
        e=input("Q3.Is your number greater than 50? (Y/N) : ")
        if e.upper()=='Y':
            list=[51,55,57,63,65,69,75,77,81,85,87,91,93,95,99]
            r=input("Q4.Is your number divisible by 3? (Y/N) : ")
            if r.upper()=="Y":
                list=[51,57,63,69,75,81,87,93,99]
                t=input("Q5.Does your number have 3 or 9 ? (Y/N) : ")
                if t.upper()=='Y':
                    list=[63,69,93,99]
                    y=input("Q6.Is the sum of the digits of your number greater than 12? (Y/N) : ")
                    if y.upper()=='Y':
                        list=[69,99]
                        u=input("Q7.Is your number 99? (Y/N) : ")
                        if u.upper()=='Y':
                            print("Your number is 99")
                        elif u.upper()=='N':
                            print("Your number is 69")
                        else:
                            print("Wrong input detected")
                            continue
                    elif y.upper()=='N':
                        list=[63,93]
                        u=input("Q7.Is your number 93? :  ")
                        if u.upper()=='Y':
                            print("Your number is 93")
                        elif u.upper()=='N':
                            print("Your number is 63")
                        else:
                            print("Wrong input detected")
                            continue
                    else:
                            print("Wrong input detected")
                            continue
                elif t.upper()=='N':
                    list=[51,57,75,81,87]
                    y=input("Q6.Does your number have '5' in any of its digits? (Y/N) : ")
                    if y.upper()=='Y':
                        list=[51,57,75]
                        u=input("Q7.Is your number less than 60? (Y/N) : ")
                        if u.upper()=='Y':
                            list=[51,57]
                            i=input("Is your number 51?")
                            if i.upper()=='Y':
                                print("Your number is 51")
                            elif u.upper()=='N':
                                print("Your number is 57")
                            else:
                                print("Wrong input detected")
                                continue
                        elif u.upper()=='N':
                            print("Your number is 75")
                        else:
                            print("Wrong input detected")
                            continue
                    elif y.upper()=='N':
                        list=[81,87]
                        u=input("Q7.Is your number 81? : ")
                        if u.upper()=='Y':
                            print("Your number is 81")
                        elif u.upper()=='N':
                            print("Your number is 87")
                        else:
                            print("Wrong input detected")
                            continue
                    else:
                        print("Wrong input detected")
                        continue
                else:
                    print("Wrong input detected")
                    continue
            elif r.upper()=='N':
                list=[55,65,77,85,91,95]
                t=input("Q5.Is your number divisible by 5? (Y/N) : ")
                if t.upper()=='Y':
                    list=[55,65,85,95]
                    y=input("Q6.Is your number greater than 70? (Y/N) : ")
                    if y.upper()=='Y':
                        list=[85,95]
                        u=input("Q7.Is your number 95? (Y/N) : ")
                        if u.upper()=='Y':
                            print("Your number is 95")
                        elif u.upper()=='N':
                            print("Your number is 85")
                        else:
                            print("Wrong input detected")
                            continue
                    elif y.upper()=='N':
                        list=[55,65]
                        u=input("Q7.Is your number 55? (Y/N) : ")
                        if u.upper()=='Y':
                            print("Your number is 55")
                        elif u.upper()=='N':
                            print("Your number is 65")
                        else:
                            print("Wrong input detected")
                            continue
                    else:
                        print("Wrong input detected")
                        continue
                elif t.upper()=='N':
                    list=[77,91]
                    y=input("Q6.Is your number 77? (Y/N) : ")
                    if y.upper()=='Y':
                        print("Your number is 77")
                    elif y.upper()=='N':
                        print("Your number is 91")
                    else:
                        print("Wrong input detected")
                        continue
                else:
                    print("Wrong input detected")
                    continue
        elif e.upper()=='N':
            list=[1,9,15,21,25,27,33,35,39,45,49]
            r=input("Q4.Is your number divisible by 3? (Y/N) : ")
            if r.upper()=="Y":
                list=[9,15,21,27,33,39,45]
                t=input("Q5.Is your number greater than 30? (Y/N) : ")
                if t.upper()=='Y':
                    list=[33,39,45]
                    y=input("Q6.Is your number 33? (Y/N) : ")
                    if y.upper()=='Y':
                        print("Your number is 33")
                    elif y.upper()=='N':
                        u=input("Q7.Is your number 45? (Y/N) : ")
                        if u.upper()=='Y':
                            print("Your number is 45")
                        elif u.upper()=='N':
                            print("Your number is 39")
                        else:
                            print("Wrong input detected")
                            continue
                    else:
                        print("Wrong input detected")
                        continue
                elif t.upper()=='N':
                    list=[9,15,21,27]
                    y=input("Q6.Is your number a perfect square or a cube? (Y/N) : ")
                    if y.upper()=='Y':
                        list=[9,27]
                        u=input("Q7.Is your number a single digit number? (Y/N) : ")
                        if u.upper()=='Y':
                            print("Your number is 9")
                        elif u.upper()=='N':
                            print("Your number is 27")
                        else:
                            print("Wrong input detected")
                            continue
                    elif y.upper()=='N':
                        list=[15,21]
                        u=input("Q7.Is the sum of digits of your number equal to 3? (Y/N) : ")
                        if u.upper()=='Y':
                            print("Your number is 21")
                        elif u.upper()=="N":
                            print("Your number is 15")
                        else:
                            print("Wrong input detected")
                            continue
                    else:
                        print("Wrong input detected")
                        continue
                else:
                    print("Wrong input detected")
                    continue
            elif r.upper()=='N':
                list=[1,25,35,49]
                t=input("Q5.Is your number a square number? (Y/N) : ")
                if t.upper()=='Y':
                    list=[1,25,49]
                    y=input("Q6.Is your number a single digit number? (Y/N) : ")
                    if y.upper()=='Y':
                        print("Your number is 1")
                    elif y.upper()=='N':
                        list=[25,49]
                        u=input("Q7.Is your number 25? (Y/N) : ")
                        if u.upper()=='Y':
                            print("Your number is 25")
                        elif u.upper()=='N':
                            print("Your number is 49")
                        else:
                            print("Wrong input detected")
                            continue
                    else:
                        print("Wrong input detected")
                        continue
                elif t.upper()=='N':
                    print("Your number is 35")
                else:
                    print("Wrong input detected")
                    continue
            else:
                print("Wrong input detected")
                continue
        else:
            print("Wrong input detected")
            continue
    else:
        print("Wrong input detected")
        continue
    L=input("Do you want to play again? (Y/N) : ")
print("THANKS FOR PLAYING")
